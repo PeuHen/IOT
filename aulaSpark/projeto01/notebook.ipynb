{
 "cells": [
  {
   "cell_type": "code",
   "execution_count": 25,
   "metadata": {},
   "outputs": [
    {
     "name": "stdout",
     "output_type": "stream",
     "text": [
      "+----------+--------------+--------+------+\n",
      "|      Date|       Product|Quantity| Price|\n",
      "+----------+--------------+--------+------+\n",
      "|2020-11-04|    Smartwatch|      46| 76.06|\n",
      "|2024-06-14|        Laptop|      35|600.12|\n",
      "|2024-03-17|        Tablet|      46|239.32|\n",
      "|2024-06-17|    Smartphone|      14| 47.93|\n",
      "|2021-11-15|        Laptop|      41|299.01|\n",
      "|2021-12-03|        Tablet|      11|583.71|\n",
      "|2020-02-04|    Smartwatch|      24|321.68|\n",
      "|2023-08-28|        Laptop|      27|443.95|\n",
      "|2024-03-09|        Tablet|      24|755.98|\n",
      "|2024-09-15|    Smartwatch|      12|210.35|\n",
      "|2021-03-07|        Tablet|      46|154.73|\n",
      "|2024-10-14|Fone de Ouvido|      13|165.72|\n",
      "|2025-02-18|    Smartwatch|      26|792.05|\n",
      "|2024-01-02|        Laptop|      47|351.33|\n",
      "|2021-03-04|    Smartphone|       2|771.75|\n",
      "|2022-05-21|    Smartphone|      38|190.44|\n",
      "|2020-01-06|        Laptop|      39|774.27|\n",
      "|2021-03-10|    Smartphone|       6|553.03|\n",
      "|2022-02-23|        Tablet|      26|683.11|\n",
      "|2020-12-15|        Laptop|       2|462.33|\n",
      "+----------+--------------+--------+------+\n",
      "only showing top 20 rows\n",
      "\n",
      "root\n",
      " |-- Date: date (nullable = true)\n",
      " |-- Product: string (nullable = true)\n",
      " |-- Quantity: integer (nullable = true)\n",
      " |-- Price: double (nullable = true)\n",
      "\n"
     ]
    }
   ],
   "source": [
    "from pyspark.sql import SparkSession\n",
    "from pyspark.sql.functions import col,sum as spark_sum\n",
    "\n",
    "spark = SparkSession.builder.appName(\"SalesAnalysis\").getOrCreate()\n",
    "df = spark.read.csv(\"./csv/produtos.csv\", header=True,inferSchema=True)\n",
    "df.show()\n",
    "df.printSchema()\n",
    "\n",
    "\n"
   ]
  }
 ],
 "metadata": {
  "kernelspec": {
   "display_name": "Python 3",
   "language": "python",
   "name": "python3"
  },
  "language_info": {
   "codemirror_mode": {
    "name": "ipython",
    "version": 3
   },
   "file_extension": ".py",
   "mimetype": "text/x-python",
   "name": "python",
   "nbconvert_exporter": "python",
   "pygments_lexer": "ipython3",
   "version": "3.13.0"
  }
 },
 "nbformat": 4,
 "nbformat_minor": 2
}
